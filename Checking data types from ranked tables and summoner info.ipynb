{
 "cells": [
  {
   "cell_type": "code",
   "execution_count": 5,
   "metadata": {},
   "outputs": [],
   "source": [
    "import pandas as pd"
   ]
  },
  {
   "cell_type": "code",
   "execution_count": 9,
   "metadata": {},
   "outputs": [],
   "source": [
    "df  = pd.read_pickle('data/summoners.pkl')"
   ]
  },
  {
   "cell_type": "code",
   "execution_count": 10,
   "metadata": {},
   "outputs": [
    {
     "data": {
      "text/html": [
       "<div>\n",
       "<style scoped>\n",
       "    .dataframe tbody tr th:only-of-type {\n",
       "        vertical-align: middle;\n",
       "    }\n",
       "\n",
       "    .dataframe tbody tr th {\n",
       "        vertical-align: top;\n",
       "    }\n",
       "\n",
       "    .dataframe thead th {\n",
       "        text-align: right;\n",
       "    }\n",
       "</style>\n",
       "<table border=\"1\" class=\"dataframe\">\n",
       "  <thead>\n",
       "    <tr style=\"text-align: right;\">\n",
       "      <th></th>\n",
       "      <th>accountId</th>\n",
       "      <th>id</th>\n",
       "      <th>name</th>\n",
       "      <th>profileIconId</th>\n",
       "      <th>puuid</th>\n",
       "      <th>revisionDate</th>\n",
       "      <th>summonerLevel</th>\n",
       "    </tr>\n",
       "  </thead>\n",
       "  <tbody>\n",
       "    <tr>\n",
       "      <th>0</th>\n",
       "      <td>b0k_yq9Xqr5Qk4Gh2kGDizfMDjGNArhufJMqUPdvOhFHvS0</td>\n",
       "      <td>F4ahwJlpRpNWjsIoiJkBhu_Vey2yLwYx3lHxsmNiBOGaCyu8</td>\n",
       "      <td>ccccllllllll</td>\n",
       "      <td>23.0</td>\n",
       "      <td>ljOO_JwbLP9HjvtEwYXG-P8BKxHudi3aAE0UGg-I74YWzf...</td>\n",
       "      <td>1.586623e+12</td>\n",
       "      <td>75.0</td>\n",
       "    </tr>\n",
       "    <tr>\n",
       "      <th>1</th>\n",
       "      <td>Y88pELZPw7r2WQ-4bVGiXMFi91rRXP3E0ra0Rk6IK-Njexg</td>\n",
       "      <td>Hj792Sa0EdcJEvwodZQ3iZNxJi9Ezlcr5LEq6OgVGAT3gBUz</td>\n",
       "      <td>soloitude</td>\n",
       "      <td>18.0</td>\n",
       "      <td>j9IvW6PSeQ6gxZglOC4kZsStlz5niGbjxJ31xSW0S32Ts7...</td>\n",
       "      <td>1.587138e+12</td>\n",
       "      <td>160.0</td>\n",
       "    </tr>\n",
       "    <tr>\n",
       "      <th>2</th>\n",
       "      <td>_F9a0MenGhDjSWqgMKe6nE50JDXTGUrGfleewAVaoPa5gcE</td>\n",
       "      <td>21wF0Qdqv3C8LMlK2mR0CNHO5vmRnofTjVF0gtvSaQUTkDlu</td>\n",
       "      <td>Starduster</td>\n",
       "      <td>4484.0</td>\n",
       "      <td>nrOlaT4zKKFx-iwghd8QP8iub_ER1QiHhNCddewf_4N1xK...</td>\n",
       "      <td>1.587067e+12</td>\n",
       "      <td>276.0</td>\n",
       "    </tr>\n",
       "    <tr>\n",
       "      <th>3</th>\n",
       "      <td>K5onOYmNI2YolQuyrpc2HhjYz8YLTRXpr2erIfVjydqHnWw</td>\n",
       "      <td>zZlxsgyS9Z_O37R4xI8tRfTYEoIT-4mIGa8ylQ83RFYuaYto</td>\n",
       "      <td>PRO tecting Her</td>\n",
       "      <td>4293.0</td>\n",
       "      <td>BN_P-lq7-9tXArz14KNfmAFiFVZkqTHiBpwT8SENv_FtKN...</td>\n",
       "      <td>1.587137e+12</td>\n",
       "      <td>316.0</td>\n",
       "    </tr>\n",
       "    <tr>\n",
       "      <th>4</th>\n",
       "      <td>tBTyuCaTBGdog5CrcgXuMV1gplTjfeXRbois7fCsenK4JV8</td>\n",
       "      <td>r9tFMY3M0eS-UYZmfEkkH3Sfj_hSxJ62ZMzknEmwlT2AWw1j</td>\n",
       "      <td>jskdfasjfjk</td>\n",
       "      <td>1392.0</td>\n",
       "      <td>Q-Y9a-WQWYfKu6StVUaFUx9bMLLKsVrsY0pOTt2t0fwo80...</td>\n",
       "      <td>1.587082e+12</td>\n",
       "      <td>131.0</td>\n",
       "    </tr>\n",
       "  </tbody>\n",
       "</table>\n",
       "</div>"
      ],
      "text/plain": [
       "                                         accountId  \\\n",
       "0  b0k_yq9Xqr5Qk4Gh2kGDizfMDjGNArhufJMqUPdvOhFHvS0   \n",
       "1  Y88pELZPw7r2WQ-4bVGiXMFi91rRXP3E0ra0Rk6IK-Njexg   \n",
       "2  _F9a0MenGhDjSWqgMKe6nE50JDXTGUrGfleewAVaoPa5gcE   \n",
       "3  K5onOYmNI2YolQuyrpc2HhjYz8YLTRXpr2erIfVjydqHnWw   \n",
       "4  tBTyuCaTBGdog5CrcgXuMV1gplTjfeXRbois7fCsenK4JV8   \n",
       "\n",
       "                                                 id              name  \\\n",
       "0  F4ahwJlpRpNWjsIoiJkBhu_Vey2yLwYx3lHxsmNiBOGaCyu8      ccccllllllll   \n",
       "1  Hj792Sa0EdcJEvwodZQ3iZNxJi9Ezlcr5LEq6OgVGAT3gBUz         soloitude   \n",
       "2  21wF0Qdqv3C8LMlK2mR0CNHO5vmRnofTjVF0gtvSaQUTkDlu        Starduster   \n",
       "3  zZlxsgyS9Z_O37R4xI8tRfTYEoIT-4mIGa8ylQ83RFYuaYto  PRO tecting Her    \n",
       "4  r9tFMY3M0eS-UYZmfEkkH3Sfj_hSxJ62ZMzknEmwlT2AWw1j       jskdfasjfjk   \n",
       "\n",
       "   profileIconId                                              puuid  \\\n",
       "0           23.0  ljOO_JwbLP9HjvtEwYXG-P8BKxHudi3aAE0UGg-I74YWzf...   \n",
       "1           18.0  j9IvW6PSeQ6gxZglOC4kZsStlz5niGbjxJ31xSW0S32Ts7...   \n",
       "2         4484.0  nrOlaT4zKKFx-iwghd8QP8iub_ER1QiHhNCddewf_4N1xK...   \n",
       "3         4293.0  BN_P-lq7-9tXArz14KNfmAFiFVZkqTHiBpwT8SENv_FtKN...   \n",
       "4         1392.0  Q-Y9a-WQWYfKu6StVUaFUx9bMLLKsVrsY0pOTt2t0fwo80...   \n",
       "\n",
       "   revisionDate  summonerLevel  \n",
       "0  1.586623e+12           75.0  \n",
       "1  1.587138e+12          160.0  \n",
       "2  1.587067e+12          276.0  \n",
       "3  1.587137e+12          316.0  \n",
       "4  1.587082e+12          131.0  "
      ]
     },
     "execution_count": 10,
     "metadata": {},
     "output_type": "execute_result"
    }
   ],
   "source": [
    "df.head()"
   ]
  },
  {
   "cell_type": "code",
   "execution_count": 11,
   "metadata": {},
   "outputs": [
    {
     "data": {
      "text/plain": [
       "Index(['accountId', 'id', 'name', 'profileIconId', 'puuid', 'revisionDate',\n",
       "       'summonerLevel'],\n",
       "      dtype='object')"
      ]
     },
     "execution_count": 11,
     "metadata": {},
     "output_type": "execute_result"
    }
   ],
   "source": [
    "df.columns"
   ]
  },
  {
   "cell_type": "code",
   "execution_count": 14,
   "metadata": {
    "scrolled": true
   },
   "outputs": [
    {
     "name": "stdout",
     "output_type": "stream",
     "text": [
      "<class 'pandas.core.frame.DataFrame'>\n",
      "RangeIndex: 48001 entries, 0 to 48000\n",
      "Data columns (total 7 columns):\n",
      "accountId        48001 non-null object\n",
      "id               48001 non-null object\n",
      "name             48001 non-null object\n",
      "profileIconId    48001 non-null float64\n",
      "puuid            48001 non-null object\n",
      "revisionDate     48001 non-null float64\n",
      "summonerLevel    48001 non-null float64\n",
      "dtypes: float64(3), object(4)\n",
      "memory usage: 2.6+ MB\n"
     ]
    }
   ],
   "source": [
    "df.info()"
   ]
  },
  {
   "cell_type": "code",
   "execution_count": 16,
   "metadata": {},
   "outputs": [],
   "source": [
    "df2  = pd.read_pickle('data/summoner_info.pkl')"
   ]
  },
  {
   "cell_type": "code",
   "execution_count": 17,
   "metadata": {},
   "outputs": [
    {
     "name": "stdout",
     "output_type": "stream",
     "text": [
      "<class 'pandas.core.frame.DataFrame'>\n",
      "RangeIndex: 1722759 entries, 0 to 1722758\n",
      "Data columns (total 14 columns):\n",
      "leagueId        object\n",
      "queueType       object\n",
      "tier            object\n",
      "rank            object\n",
      "summonerId      object\n",
      "summonerName    object\n",
      "leaguePoints    int64\n",
      "wins            int64\n",
      "losses          int64\n",
      "veteran         bool\n",
      "inactive        bool\n",
      "freshBlood      bool\n",
      "hotStreak       bool\n",
      "miniSeries      object\n",
      "dtypes: bool(4), int64(3), object(7)\n",
      "memory usage: 138.0+ MB\n"
     ]
    }
   ],
   "source": [
    "df2.info()"
   ]
  },
  {
   "cell_type": "code",
   "execution_count": 19,
   "metadata": {},
   "outputs": [
    {
     "data": {
      "text/html": [
       "<div>\n",
       "<style scoped>\n",
       "    .dataframe tbody tr th:only-of-type {\n",
       "        vertical-align: middle;\n",
       "    }\n",
       "\n",
       "    .dataframe tbody tr th {\n",
       "        vertical-align: top;\n",
       "    }\n",
       "\n",
       "    .dataframe thead th {\n",
       "        text-align: right;\n",
       "    }\n",
       "</style>\n",
       "<table border=\"1\" class=\"dataframe\">\n",
       "  <thead>\n",
       "    <tr style=\"text-align: right;\">\n",
       "      <th></th>\n",
       "      <th>accountId</th>\n",
       "      <th>id</th>\n",
       "      <th>name</th>\n",
       "      <th>profileIconId</th>\n",
       "      <th>puuid</th>\n",
       "      <th>revisionDate</th>\n",
       "      <th>summonerLevel</th>\n",
       "    </tr>\n",
       "  </thead>\n",
       "  <tbody>\n",
       "    <tr>\n",
       "      <th>0</th>\n",
       "      <td>b0k_yq9Xqr5Qk4Gh2kGDizfMDjGNArhufJMqUPdvOhFHvS0</td>\n",
       "      <td>F4ahwJlpRpNWjsIoiJkBhu_Vey2yLwYx3lHxsmNiBOGaCyu8</td>\n",
       "      <td>ccccllllllll</td>\n",
       "      <td>23.0</td>\n",
       "      <td>ljOO_JwbLP9HjvtEwYXG-P8BKxHudi3aAE0UGg-I74YWzf...</td>\n",
       "      <td>1.586623e+12</td>\n",
       "      <td>75.0</td>\n",
       "    </tr>\n",
       "    <tr>\n",
       "      <th>1</th>\n",
       "      <td>Y88pELZPw7r2WQ-4bVGiXMFi91rRXP3E0ra0Rk6IK-Njexg</td>\n",
       "      <td>Hj792Sa0EdcJEvwodZQ3iZNxJi9Ezlcr5LEq6OgVGAT3gBUz</td>\n",
       "      <td>soloitude</td>\n",
       "      <td>18.0</td>\n",
       "      <td>j9IvW6PSeQ6gxZglOC4kZsStlz5niGbjxJ31xSW0S32Ts7...</td>\n",
       "      <td>1.587138e+12</td>\n",
       "      <td>160.0</td>\n",
       "    </tr>\n",
       "    <tr>\n",
       "      <th>2</th>\n",
       "      <td>_F9a0MenGhDjSWqgMKe6nE50JDXTGUrGfleewAVaoPa5gcE</td>\n",
       "      <td>21wF0Qdqv3C8LMlK2mR0CNHO5vmRnofTjVF0gtvSaQUTkDlu</td>\n",
       "      <td>Starduster</td>\n",
       "      <td>4484.0</td>\n",
       "      <td>nrOlaT4zKKFx-iwghd8QP8iub_ER1QiHhNCddewf_4N1xK...</td>\n",
       "      <td>1.587067e+12</td>\n",
       "      <td>276.0</td>\n",
       "    </tr>\n",
       "    <tr>\n",
       "      <th>3</th>\n",
       "      <td>K5onOYmNI2YolQuyrpc2HhjYz8YLTRXpr2erIfVjydqHnWw</td>\n",
       "      <td>zZlxsgyS9Z_O37R4xI8tRfTYEoIT-4mIGa8ylQ83RFYuaYto</td>\n",
       "      <td>PRO tecting Her</td>\n",
       "      <td>4293.0</td>\n",
       "      <td>BN_P-lq7-9tXArz14KNfmAFiFVZkqTHiBpwT8SENv_FtKN...</td>\n",
       "      <td>1.587137e+12</td>\n",
       "      <td>316.0</td>\n",
       "    </tr>\n",
       "    <tr>\n",
       "      <th>4</th>\n",
       "      <td>tBTyuCaTBGdog5CrcgXuMV1gplTjfeXRbois7fCsenK4JV8</td>\n",
       "      <td>r9tFMY3M0eS-UYZmfEkkH3Sfj_hSxJ62ZMzknEmwlT2AWw1j</td>\n",
       "      <td>jskdfasjfjk</td>\n",
       "      <td>1392.0</td>\n",
       "      <td>Q-Y9a-WQWYfKu6StVUaFUx9bMLLKsVrsY0pOTt2t0fwo80...</td>\n",
       "      <td>1.587082e+12</td>\n",
       "      <td>131.0</td>\n",
       "    </tr>\n",
       "  </tbody>\n",
       "</table>\n",
       "</div>"
      ],
      "text/plain": [
       "                                         accountId  \\\n",
       "0  b0k_yq9Xqr5Qk4Gh2kGDizfMDjGNArhufJMqUPdvOhFHvS0   \n",
       "1  Y88pELZPw7r2WQ-4bVGiXMFi91rRXP3E0ra0Rk6IK-Njexg   \n",
       "2  _F9a0MenGhDjSWqgMKe6nE50JDXTGUrGfleewAVaoPa5gcE   \n",
       "3  K5onOYmNI2YolQuyrpc2HhjYz8YLTRXpr2erIfVjydqHnWw   \n",
       "4  tBTyuCaTBGdog5CrcgXuMV1gplTjfeXRbois7fCsenK4JV8   \n",
       "\n",
       "                                                 id              name  \\\n",
       "0  F4ahwJlpRpNWjsIoiJkBhu_Vey2yLwYx3lHxsmNiBOGaCyu8      ccccllllllll   \n",
       "1  Hj792Sa0EdcJEvwodZQ3iZNxJi9Ezlcr5LEq6OgVGAT3gBUz         soloitude   \n",
       "2  21wF0Qdqv3C8LMlK2mR0CNHO5vmRnofTjVF0gtvSaQUTkDlu        Starduster   \n",
       "3  zZlxsgyS9Z_O37R4xI8tRfTYEoIT-4mIGa8ylQ83RFYuaYto  PRO tecting Her    \n",
       "4  r9tFMY3M0eS-UYZmfEkkH3Sfj_hSxJ62ZMzknEmwlT2AWw1j       jskdfasjfjk   \n",
       "\n",
       "   profileIconId                                              puuid  \\\n",
       "0           23.0  ljOO_JwbLP9HjvtEwYXG-P8BKxHudi3aAE0UGg-I74YWzf...   \n",
       "1           18.0  j9IvW6PSeQ6gxZglOC4kZsStlz5niGbjxJ31xSW0S32Ts7...   \n",
       "2         4484.0  nrOlaT4zKKFx-iwghd8QP8iub_ER1QiHhNCddewf_4N1xK...   \n",
       "3         4293.0  BN_P-lq7-9tXArz14KNfmAFiFVZkqTHiBpwT8SENv_FtKN...   \n",
       "4         1392.0  Q-Y9a-WQWYfKu6StVUaFUx9bMLLKsVrsY0pOTt2t0fwo80...   \n",
       "\n",
       "   revisionDate  summonerLevel  \n",
       "0  1.586623e+12           75.0  \n",
       "1  1.587138e+12          160.0  \n",
       "2  1.587067e+12          276.0  \n",
       "3  1.587137e+12          316.0  \n",
       "4  1.587082e+12          131.0  "
      ]
     },
     "execution_count": 19,
     "metadata": {},
     "output_type": "execute_result"
    }
   ],
   "source": [
    "df.head()"
   ]
  },
  {
   "cell_type": "code",
   "execution_count": 18,
   "metadata": {
    "scrolled": true
   },
   "outputs": [
    {
     "data": {
      "text/html": [
       "<div>\n",
       "<style scoped>\n",
       "    .dataframe tbody tr th:only-of-type {\n",
       "        vertical-align: middle;\n",
       "    }\n",
       "\n",
       "    .dataframe tbody tr th {\n",
       "        vertical-align: top;\n",
       "    }\n",
       "\n",
       "    .dataframe thead th {\n",
       "        text-align: right;\n",
       "    }\n",
       "</style>\n",
       "<table border=\"1\" class=\"dataframe\">\n",
       "  <thead>\n",
       "    <tr style=\"text-align: right;\">\n",
       "      <th></th>\n",
       "      <th>leagueId</th>\n",
       "      <th>queueType</th>\n",
       "      <th>tier</th>\n",
       "      <th>rank</th>\n",
       "      <th>summonerId</th>\n",
       "      <th>summonerName</th>\n",
       "      <th>leaguePoints</th>\n",
       "      <th>wins</th>\n",
       "      <th>losses</th>\n",
       "      <th>veteran</th>\n",
       "      <th>inactive</th>\n",
       "      <th>freshBlood</th>\n",
       "      <th>hotStreak</th>\n",
       "      <th>miniSeries</th>\n",
       "    </tr>\n",
       "  </thead>\n",
       "  <tbody>\n",
       "    <tr>\n",
       "      <th>0</th>\n",
       "      <td>13dab1d7-70a0-42e4-9672-532bdd8d8e9c</td>\n",
       "      <td>RANKED_SOLO_5x5</td>\n",
       "      <td>DIAMOND</td>\n",
       "      <td>I</td>\n",
       "      <td>F4ahwJlpRpNWjsIoiJkBhu_Vey2yLwYx3lHxsmNiBOGaCyu8</td>\n",
       "      <td>ccccllllllll</td>\n",
       "      <td>0</td>\n",
       "      <td>111</td>\n",
       "      <td>109</td>\n",
       "      <td>False</td>\n",
       "      <td>False</td>\n",
       "      <td>False</td>\n",
       "      <td>False</td>\n",
       "      <td>NaN</td>\n",
       "    </tr>\n",
       "    <tr>\n",
       "      <th>1</th>\n",
       "      <td>7c699201-2ae5-49ca-adba-208471db946f</td>\n",
       "      <td>RANKED_SOLO_5x5</td>\n",
       "      <td>DIAMOND</td>\n",
       "      <td>I</td>\n",
       "      <td>Hj792Sa0EdcJEvwodZQ3iZNxJi9Ezlcr5LEq6OgVGAT3gBUz</td>\n",
       "      <td>soloitude</td>\n",
       "      <td>0</td>\n",
       "      <td>97</td>\n",
       "      <td>79</td>\n",
       "      <td>False</td>\n",
       "      <td>False</td>\n",
       "      <td>False</td>\n",
       "      <td>False</td>\n",
       "      <td>NaN</td>\n",
       "    </tr>\n",
       "    <tr>\n",
       "      <th>2</th>\n",
       "      <td>599820a7-95ad-4500-8558-9f686f4ce619</td>\n",
       "      <td>RANKED_SOLO_5x5</td>\n",
       "      <td>DIAMOND</td>\n",
       "      <td>I</td>\n",
       "      <td>21wF0Qdqv3C8LMlK2mR0CNHO5vmRnofTjVF0gtvSaQUTkDlu</td>\n",
       "      <td>Starduster</td>\n",
       "      <td>0</td>\n",
       "      <td>152</td>\n",
       "      <td>136</td>\n",
       "      <td>False</td>\n",
       "      <td>False</td>\n",
       "      <td>False</td>\n",
       "      <td>False</td>\n",
       "      <td>NaN</td>\n",
       "    </tr>\n",
       "    <tr>\n",
       "      <th>3</th>\n",
       "      <td>0f8a41a3-dffb-4457-ba1a-d370da708d6d</td>\n",
       "      <td>RANKED_SOLO_5x5</td>\n",
       "      <td>DIAMOND</td>\n",
       "      <td>I</td>\n",
       "      <td>zZlxsgyS9Z_O37R4xI8tRfTYEoIT-4mIGa8ylQ83RFYuaYto</td>\n",
       "      <td>PRO tecting Her</td>\n",
       "      <td>26</td>\n",
       "      <td>62</td>\n",
       "      <td>46</td>\n",
       "      <td>False</td>\n",
       "      <td>False</td>\n",
       "      <td>False</td>\n",
       "      <td>False</td>\n",
       "      <td>NaN</td>\n",
       "    </tr>\n",
       "    <tr>\n",
       "      <th>4</th>\n",
       "      <td>9c27527f-595b-477b-b455-154dd3478b1d</td>\n",
       "      <td>RANKED_SOLO_5x5</td>\n",
       "      <td>DIAMOND</td>\n",
       "      <td>I</td>\n",
       "      <td>r9tFMY3M0eS-UYZmfEkkH3Sfj_hSxJ62ZMzknEmwlT2AWw1j</td>\n",
       "      <td>jskdfasjfjk</td>\n",
       "      <td>21</td>\n",
       "      <td>86</td>\n",
       "      <td>82</td>\n",
       "      <td>False</td>\n",
       "      <td>False</td>\n",
       "      <td>False</td>\n",
       "      <td>False</td>\n",
       "      <td>NaN</td>\n",
       "    </tr>\n",
       "  </tbody>\n",
       "</table>\n",
       "</div>"
      ],
      "text/plain": [
       "                               leagueId        queueType     tier rank  \\\n",
       "0  13dab1d7-70a0-42e4-9672-532bdd8d8e9c  RANKED_SOLO_5x5  DIAMOND    I   \n",
       "1  7c699201-2ae5-49ca-adba-208471db946f  RANKED_SOLO_5x5  DIAMOND    I   \n",
       "2  599820a7-95ad-4500-8558-9f686f4ce619  RANKED_SOLO_5x5  DIAMOND    I   \n",
       "3  0f8a41a3-dffb-4457-ba1a-d370da708d6d  RANKED_SOLO_5x5  DIAMOND    I   \n",
       "4  9c27527f-595b-477b-b455-154dd3478b1d  RANKED_SOLO_5x5  DIAMOND    I   \n",
       "\n",
       "                                         summonerId      summonerName  \\\n",
       "0  F4ahwJlpRpNWjsIoiJkBhu_Vey2yLwYx3lHxsmNiBOGaCyu8      ccccllllllll   \n",
       "1  Hj792Sa0EdcJEvwodZQ3iZNxJi9Ezlcr5LEq6OgVGAT3gBUz         soloitude   \n",
       "2  21wF0Qdqv3C8LMlK2mR0CNHO5vmRnofTjVF0gtvSaQUTkDlu        Starduster   \n",
       "3  zZlxsgyS9Z_O37R4xI8tRfTYEoIT-4mIGa8ylQ83RFYuaYto  PRO tecting Her    \n",
       "4  r9tFMY3M0eS-UYZmfEkkH3Sfj_hSxJ62ZMzknEmwlT2AWw1j       jskdfasjfjk   \n",
       "\n",
       "   leaguePoints  wins  losses  veteran  inactive  freshBlood  hotStreak  \\\n",
       "0             0   111     109    False     False       False      False   \n",
       "1             0    97      79    False     False       False      False   \n",
       "2             0   152     136    False     False       False      False   \n",
       "3            26    62      46    False     False       False      False   \n",
       "4            21    86      82    False     False       False      False   \n",
       "\n",
       "  miniSeries  \n",
       "0        NaN  \n",
       "1        NaN  \n",
       "2        NaN  \n",
       "3        NaN  \n",
       "4        NaN  "
      ]
     },
     "execution_count": 18,
     "metadata": {},
     "output_type": "execute_result"
    }
   ],
   "source": [
    "df2.head()"
   ]
  },
  {
   "cell_type": "code",
   "execution_count": 32,
   "metadata": {},
   "outputs": [
    {
     "data": {
      "text/plain": [
       "[47, 48, 12, 4, 78, 15, 4]"
      ]
     },
     "execution_count": 32,
     "metadata": {},
     "output_type": "execute_result"
    }
   ],
   "source": [
    "[[len(str(i)) for i in df.iloc[0]] for j in df.iloc[]"
   ]
  },
  {
   "cell_type": "code",
   "execution_count": 61,
   "metadata": {},
   "outputs": [
    {
     "data": {
      "text/plain": [
       "[{'accountId': 56}, {'id': 48}, {'name': 16}, {'puuid': 78}]"
      ]
     },
     "execution_count": 61,
     "metadata": {},
     "output_type": "execute_result"
    }
   ],
   "source": [
    "[{col: df[col].str.len().max()} for col in df.drop(columns=['profileIconId', 'revisionDate', 'summonerLevel']).columns]"
   ]
  },
  {
   "cell_type": "code",
   "execution_count": 62,
   "metadata": {},
   "outputs": [
    {
     "data": {
      "text/plain": [
       "[{'accountId': 40}, {'id': 40}, {'name': 3}, {'puuid': 78}]"
      ]
     },
     "execution_count": 62,
     "metadata": {},
     "output_type": "execute_result"
    }
   ],
   "source": [
    "[{col: df[col].str.len().min()} for col in df.drop(columns=['profileIconId', 'revisionDate', 'summonerLevel']).columns]"
   ]
  },
  {
   "cell_type": "code",
   "execution_count": 63,
   "metadata": {},
   "outputs": [
    {
     "data": {
      "text/plain": [
       "[{'accountId': 48.35234682610779},\n",
       " {'id': 47.229953542634526},\n",
       " {'name': 9.74367200683319},\n",
       " {'puuid': 78.0}]"
      ]
     },
     "execution_count": 63,
     "metadata": {},
     "output_type": "execute_result"
    }
   ],
   "source": [
    "[{col: df[col].str.len().mean()} for col in df.drop(columns=['profileIconId', 'revisionDate', 'summonerLevel']).columns]"
   ]
  },
  {
   "cell_type": "code",
   "execution_count": 64,
   "metadata": {
    "scrolled": true
   },
   "outputs": [
    {
     "data": {
      "text/plain": [
       "[{'accountId': 0    46\n",
       "  dtype: int64}, {'id': 0    47\n",
       "  dtype: int64}, {'name': 0    7\n",
       "  dtype: int64}, {'puuid': 0    78\n",
       "  dtype: int64}]"
      ]
     },
     "execution_count": 64,
     "metadata": {},
     "output_type": "execute_result"
    }
   ],
   "source": [
    "[{col: df[col].str.len().mode()} for col in df.drop(columns=['profileIconId', 'revisionDate', 'summonerLevel']).columns]"
   ]
  },
  {
   "cell_type": "code",
   "execution_count": 53,
   "metadata": {},
   "outputs": [
    {
     "ename": "KeyboardInterrupt",
     "evalue": "",
     "output_type": "error",
     "traceback": [
      "\u001B[0;31m---------------------------------------------------------------------------\u001B[0m",
      "\u001B[0;31mKeyboardInterrupt\u001B[0m                         Traceback (most recent call last)",
      "\u001B[0;32m<ipython-input-53-6681a7d2e708>\u001B[0m in \u001B[0;36m<module>\u001B[0;34m\u001B[0m\n\u001B[0;32m----> 1\u001B[0;31m \u001B[0mdf\u001B[0m\u001B[0;34m.\u001B[0m\u001B[0mdrop\u001B[0m\u001B[0;34m(\u001B[0m\u001B[0mcolumns\u001B[0m\u001B[0;34m=\u001B[0m\u001B[0;34m[\u001B[0m\u001B[0;34m'profileIconId'\u001B[0m\u001B[0;34m,\u001B[0m \u001B[0;34m'revisionDate'\u001B[0m\u001B[0;34m,\u001B[0m \u001B[0;34m'summonerLevel'\u001B[0m\u001B[0;34m]\u001B[0m\u001B[0;34m)\u001B[0m\u001B[0;34m.\u001B[0m\u001B[0mmean\u001B[0m\u001B[0;34m(\u001B[0m\u001B[0;34m)\u001B[0m\u001B[0;34m\u001B[0m\u001B[0;34m\u001B[0m\u001B[0m\n\u001B[0m",
      "\u001B[0;32m~/env_1/lib/python3.6/site-packages/pandas/core/generic.py\u001B[0m in \u001B[0;36mstat_func\u001B[0;34m(self, axis, skipna, level, numeric_only, **kwargs)\u001B[0m\n\u001B[1;32m  11616\u001B[0m             \u001B[0;32mreturn\u001B[0m \u001B[0mself\u001B[0m\u001B[0;34m.\u001B[0m\u001B[0m_agg_by_level\u001B[0m\u001B[0;34m(\u001B[0m\u001B[0mname\u001B[0m\u001B[0;34m,\u001B[0m \u001B[0maxis\u001B[0m\u001B[0;34m=\u001B[0m\u001B[0maxis\u001B[0m\u001B[0;34m,\u001B[0m \u001B[0mlevel\u001B[0m\u001B[0;34m=\u001B[0m\u001B[0mlevel\u001B[0m\u001B[0;34m,\u001B[0m \u001B[0mskipna\u001B[0m\u001B[0;34m=\u001B[0m\u001B[0mskipna\u001B[0m\u001B[0;34m)\u001B[0m\u001B[0;34m\u001B[0m\u001B[0;34m\u001B[0m\u001B[0m\n\u001B[1;32m  11617\u001B[0m         return self._reduce(\n\u001B[0;32m> 11618\u001B[0;31m             \u001B[0mf\u001B[0m\u001B[0;34m,\u001B[0m \u001B[0mname\u001B[0m\u001B[0;34m,\u001B[0m \u001B[0maxis\u001B[0m\u001B[0;34m=\u001B[0m\u001B[0maxis\u001B[0m\u001B[0;34m,\u001B[0m \u001B[0mskipna\u001B[0m\u001B[0;34m=\u001B[0m\u001B[0mskipna\u001B[0m\u001B[0;34m,\u001B[0m \u001B[0mnumeric_only\u001B[0m\u001B[0;34m=\u001B[0m\u001B[0mnumeric_only\u001B[0m\u001B[0;34m\u001B[0m\u001B[0;34m\u001B[0m\u001B[0m\n\u001B[0m\u001B[1;32m  11619\u001B[0m         )\n\u001B[1;32m  11620\u001B[0m \u001B[0;34m\u001B[0m\u001B[0m\n",
      "\u001B[0;32m~/env_1/lib/python3.6/site-packages/pandas/core/frame.py\u001B[0m in \u001B[0;36m_reduce\u001B[0;34m(self, op, name, axis, skipna, numeric_only, filter_type, **kwds)\u001B[0m\n\u001B[1;32m   7922\u001B[0m             \u001B[0;32mtry\u001B[0m\u001B[0;34m:\u001B[0m\u001B[0;34m\u001B[0m\u001B[0;34m\u001B[0m\u001B[0m\n\u001B[1;32m   7923\u001B[0m                 \u001B[0mvalues\u001B[0m \u001B[0;34m=\u001B[0m \u001B[0mself\u001B[0m\u001B[0;34m.\u001B[0m\u001B[0mvalues\u001B[0m\u001B[0;34m\u001B[0m\u001B[0;34m\u001B[0m\u001B[0m\n\u001B[0;32m-> 7924\u001B[0;31m                 \u001B[0mresult\u001B[0m \u001B[0;34m=\u001B[0m \u001B[0mf\u001B[0m\u001B[0;34m(\u001B[0m\u001B[0mvalues\u001B[0m\u001B[0;34m)\u001B[0m\u001B[0;34m\u001B[0m\u001B[0;34m\u001B[0m\u001B[0m\n\u001B[0m\u001B[1;32m   7925\u001B[0m \u001B[0;34m\u001B[0m\u001B[0m\n\u001B[1;32m   7926\u001B[0m                 \u001B[0;32mif\u001B[0m \u001B[0mfilter_type\u001B[0m \u001B[0;34m==\u001B[0m \u001B[0;34m\"bool\"\u001B[0m \u001B[0;32mand\u001B[0m \u001B[0mis_object_dtype\u001B[0m\u001B[0;34m(\u001B[0m\u001B[0mvalues\u001B[0m\u001B[0;34m)\u001B[0m \u001B[0;32mand\u001B[0m \u001B[0maxis\u001B[0m \u001B[0;32mis\u001B[0m \u001B[0;32mNone\u001B[0m\u001B[0;34m:\u001B[0m\u001B[0;34m\u001B[0m\u001B[0;34m\u001B[0m\u001B[0m\n",
      "\u001B[0;32m~/env_1/lib/python3.6/site-packages/pandas/core/frame.py\u001B[0m in \u001B[0;36mf\u001B[0;34m(x)\u001B[0m\n\u001B[1;32m   7906\u001B[0m \u001B[0;34m\u001B[0m\u001B[0m\n\u001B[1;32m   7907\u001B[0m         \u001B[0;32mdef\u001B[0m \u001B[0mf\u001B[0m\u001B[0;34m(\u001B[0m\u001B[0mx\u001B[0m\u001B[0;34m)\u001B[0m\u001B[0;34m:\u001B[0m\u001B[0;34m\u001B[0m\u001B[0;34m\u001B[0m\u001B[0m\n\u001B[0;32m-> 7908\u001B[0;31m             \u001B[0;32mreturn\u001B[0m \u001B[0mop\u001B[0m\u001B[0;34m(\u001B[0m\u001B[0mx\u001B[0m\u001B[0;34m,\u001B[0m \u001B[0maxis\u001B[0m\u001B[0;34m=\u001B[0m\u001B[0maxis\u001B[0m\u001B[0;34m,\u001B[0m \u001B[0mskipna\u001B[0m\u001B[0;34m=\u001B[0m\u001B[0mskipna\u001B[0m\u001B[0;34m,\u001B[0m \u001B[0;34m**\u001B[0m\u001B[0mkwds\u001B[0m\u001B[0;34m)\u001B[0m\u001B[0;34m\u001B[0m\u001B[0;34m\u001B[0m\u001B[0m\n\u001B[0m\u001B[1;32m   7909\u001B[0m \u001B[0;34m\u001B[0m\u001B[0m\n\u001B[1;32m   7910\u001B[0m         \u001B[0;31m# exclude timedelta/datetime unless we are uniform types\u001B[0m\u001B[0;34m\u001B[0m\u001B[0;34m\u001B[0m\u001B[0;34m\u001B[0m\u001B[0m\n",
      "\u001B[0;32m~/env_1/lib/python3.6/site-packages/pandas/core/nanops.py\u001B[0m in \u001B[0;36m_f\u001B[0;34m(*args, **kwargs)\u001B[0m\n\u001B[1;32m     68\u001B[0m             \u001B[0;32mtry\u001B[0m\u001B[0;34m:\u001B[0m\u001B[0;34m\u001B[0m\u001B[0;34m\u001B[0m\u001B[0m\n\u001B[1;32m     69\u001B[0m                 \u001B[0;32mwith\u001B[0m \u001B[0mnp\u001B[0m\u001B[0;34m.\u001B[0m\u001B[0merrstate\u001B[0m\u001B[0;34m(\u001B[0m\u001B[0minvalid\u001B[0m\u001B[0;34m=\u001B[0m\u001B[0;34m\"ignore\"\u001B[0m\u001B[0;34m)\u001B[0m\u001B[0;34m:\u001B[0m\u001B[0;34m\u001B[0m\u001B[0;34m\u001B[0m\u001B[0m\n\u001B[0;32m---> 70\u001B[0;31m                     \u001B[0;32mreturn\u001B[0m \u001B[0mf\u001B[0m\u001B[0;34m(\u001B[0m\u001B[0;34m*\u001B[0m\u001B[0margs\u001B[0m\u001B[0;34m,\u001B[0m \u001B[0;34m**\u001B[0m\u001B[0mkwargs\u001B[0m\u001B[0;34m)\u001B[0m\u001B[0;34m\u001B[0m\u001B[0;34m\u001B[0m\u001B[0m\n\u001B[0m\u001B[1;32m     71\u001B[0m             \u001B[0;32mexcept\u001B[0m \u001B[0mValueError\u001B[0m \u001B[0;32mas\u001B[0m \u001B[0me\u001B[0m\u001B[0;34m:\u001B[0m\u001B[0;34m\u001B[0m\u001B[0;34m\u001B[0m\u001B[0m\n\u001B[1;32m     72\u001B[0m                 \u001B[0;31m# we want to transform an object array\u001B[0m\u001B[0;34m\u001B[0m\u001B[0;34m\u001B[0m\u001B[0;34m\u001B[0m\u001B[0m\n",
      "\u001B[0;32m~/env_1/lib/python3.6/site-packages/pandas/core/nanops.py\u001B[0m in \u001B[0;36mf\u001B[0;34m(values, axis, skipna, **kwds)\u001B[0m\n\u001B[1;32m    118\u001B[0m                         \u001B[0mresult\u001B[0m \u001B[0;34m=\u001B[0m \u001B[0malt\u001B[0m\u001B[0;34m(\u001B[0m\u001B[0mvalues\u001B[0m\u001B[0;34m,\u001B[0m \u001B[0maxis\u001B[0m\u001B[0;34m=\u001B[0m\u001B[0maxis\u001B[0m\u001B[0;34m,\u001B[0m \u001B[0mskipna\u001B[0m\u001B[0;34m=\u001B[0m\u001B[0mskipna\u001B[0m\u001B[0;34m,\u001B[0m \u001B[0;34m**\u001B[0m\u001B[0mkwds\u001B[0m\u001B[0;34m)\u001B[0m\u001B[0;34m\u001B[0m\u001B[0;34m\u001B[0m\u001B[0m\n\u001B[1;32m    119\u001B[0m                 \u001B[0;32melse\u001B[0m\u001B[0;34m:\u001B[0m\u001B[0;34m\u001B[0m\u001B[0;34m\u001B[0m\u001B[0m\n\u001B[0;32m--> 120\u001B[0;31m                     \u001B[0mresult\u001B[0m \u001B[0;34m=\u001B[0m \u001B[0malt\u001B[0m\u001B[0;34m(\u001B[0m\u001B[0mvalues\u001B[0m\u001B[0;34m,\u001B[0m \u001B[0maxis\u001B[0m\u001B[0;34m=\u001B[0m\u001B[0maxis\u001B[0m\u001B[0;34m,\u001B[0m \u001B[0mskipna\u001B[0m\u001B[0;34m=\u001B[0m\u001B[0mskipna\u001B[0m\u001B[0;34m,\u001B[0m \u001B[0;34m**\u001B[0m\u001B[0mkwds\u001B[0m\u001B[0;34m)\u001B[0m\u001B[0;34m\u001B[0m\u001B[0;34m\u001B[0m\u001B[0m\n\u001B[0m\u001B[1;32m    121\u001B[0m             \u001B[0;32mexcept\u001B[0m \u001B[0mException\u001B[0m\u001B[0;34m:\u001B[0m\u001B[0;34m\u001B[0m\u001B[0;34m\u001B[0m\u001B[0m\n\u001B[1;32m    122\u001B[0m                 \u001B[0;32mtry\u001B[0m\u001B[0;34m:\u001B[0m\u001B[0;34m\u001B[0m\u001B[0;34m\u001B[0m\u001B[0m\n",
      "\u001B[0;32m~/env_1/lib/python3.6/site-packages/pandas/core/nanops.py\u001B[0m in \u001B[0;36mnanmean\u001B[0;34m(values, axis, skipna, mask)\u001B[0m\n\u001B[1;32m    549\u001B[0m         \u001B[0mdtype_count\u001B[0m \u001B[0;34m=\u001B[0m \u001B[0mdtype\u001B[0m\u001B[0;34m\u001B[0m\u001B[0;34m\u001B[0m\u001B[0m\n\u001B[1;32m    550\u001B[0m     \u001B[0mcount\u001B[0m \u001B[0;34m=\u001B[0m \u001B[0m_get_counts\u001B[0m\u001B[0;34m(\u001B[0m\u001B[0mvalues\u001B[0m\u001B[0;34m.\u001B[0m\u001B[0mshape\u001B[0m\u001B[0;34m,\u001B[0m \u001B[0mmask\u001B[0m\u001B[0;34m,\u001B[0m \u001B[0maxis\u001B[0m\u001B[0;34m,\u001B[0m \u001B[0mdtype\u001B[0m\u001B[0;34m=\u001B[0m\u001B[0mdtype_count\u001B[0m\u001B[0;34m)\u001B[0m\u001B[0;34m\u001B[0m\u001B[0;34m\u001B[0m\u001B[0m\n\u001B[0;32m--> 551\u001B[0;31m     \u001B[0mthe_sum\u001B[0m \u001B[0;34m=\u001B[0m \u001B[0m_ensure_numeric\u001B[0m\u001B[0;34m(\u001B[0m\u001B[0mvalues\u001B[0m\u001B[0;34m.\u001B[0m\u001B[0msum\u001B[0m\u001B[0;34m(\u001B[0m\u001B[0maxis\u001B[0m\u001B[0;34m,\u001B[0m \u001B[0mdtype\u001B[0m\u001B[0;34m=\u001B[0m\u001B[0mdtype_sum\u001B[0m\u001B[0;34m)\u001B[0m\u001B[0;34m)\u001B[0m\u001B[0;34m\u001B[0m\u001B[0;34m\u001B[0m\u001B[0m\n\u001B[0m\u001B[1;32m    552\u001B[0m \u001B[0;34m\u001B[0m\u001B[0m\n\u001B[1;32m    553\u001B[0m     \u001B[0;32mif\u001B[0m \u001B[0maxis\u001B[0m \u001B[0;32mis\u001B[0m \u001B[0;32mnot\u001B[0m \u001B[0;32mNone\u001B[0m \u001B[0;32mand\u001B[0m \u001B[0mgetattr\u001B[0m\u001B[0;34m(\u001B[0m\u001B[0mthe_sum\u001B[0m\u001B[0;34m,\u001B[0m \u001B[0;34m\"ndim\"\u001B[0m\u001B[0;34m,\u001B[0m \u001B[0;32mFalse\u001B[0m\u001B[0;34m)\u001B[0m\u001B[0;34m:\u001B[0m\u001B[0;34m\u001B[0m\u001B[0;34m\u001B[0m\u001B[0m\n",
      "\u001B[0;32m~/env_1/lib/python3.6/site-packages/numpy/core/_methods.py\u001B[0m in \u001B[0;36m_sum\u001B[0;34m(a, axis, dtype, out, keepdims, initial, where)\u001B[0m\n\u001B[1;32m     36\u001B[0m def _sum(a, axis=None, dtype=None, out=None, keepdims=False,\n\u001B[1;32m     37\u001B[0m          initial=_NoValue, where=True):\n\u001B[0;32m---> 38\u001B[0;31m     \u001B[0;32mreturn\u001B[0m \u001B[0mumr_sum\u001B[0m\u001B[0;34m(\u001B[0m\u001B[0ma\u001B[0m\u001B[0;34m,\u001B[0m \u001B[0maxis\u001B[0m\u001B[0;34m,\u001B[0m \u001B[0mdtype\u001B[0m\u001B[0;34m,\u001B[0m \u001B[0mout\u001B[0m\u001B[0;34m,\u001B[0m \u001B[0mkeepdims\u001B[0m\u001B[0;34m,\u001B[0m \u001B[0minitial\u001B[0m\u001B[0;34m,\u001B[0m \u001B[0mwhere\u001B[0m\u001B[0;34m)\u001B[0m\u001B[0;34m\u001B[0m\u001B[0;34m\u001B[0m\u001B[0m\n\u001B[0m\u001B[1;32m     39\u001B[0m \u001B[0;34m\u001B[0m\u001B[0m\n\u001B[1;32m     40\u001B[0m def _prod(a, axis=None, dtype=None, out=None, keepdims=False,\n",
      "\u001B[0;31mKeyboardInterrupt\u001B[0m: "
     ]
    }
   ],
   "source": [
    "df.drop(columns=['profileIconId', 'revisionDate', 'summonerLevel']).mean()"
   ]
  },
  {
   "cell_type": "code",
   "execution_count": 40,
   "metadata": {},
   "outputs": [
    {
     "data": {
      "text/plain": [
       "1586622597000.0"
      ]
     },
     "execution_count": 40,
     "metadata": {},
     "output_type": "execute_result"
    }
   ],
   "source": [
    "df['revisionDate'][0]"
   ]
  },
  {
   "cell_type": "code",
   "execution_count": null,
   "metadata": {},
   "outputs": [],
   "source": [
    "'''\n",
    "create table summoners\n",
    "(\n",
    "id serial not null,\n",
    "leagueId\n",
    ")\n",
    "'''"
   ]
  }
 ],
 "metadata": {
  "kernelspec": {
   "display_name": "Python 3.6.8 64-bit ('env_1': venv)",
   "language": "python",
   "name": "python36864bitenv1venva83d7019c1ce4fc9b0ec7e8934ccea89"
  },
  "language_info": {
   "codemirror_mode": {
    "name": "ipython",
    "version": 3
   },
   "file_extension": ".py",
   "mimetype": "text/x-python",
   "name": "python",
   "nbconvert_exporter": "python",
   "pygments_lexer": "ipython3",
   "version": "3.6.9"
  }
 },
 "nbformat": 4,
 "nbformat_minor": 4
}